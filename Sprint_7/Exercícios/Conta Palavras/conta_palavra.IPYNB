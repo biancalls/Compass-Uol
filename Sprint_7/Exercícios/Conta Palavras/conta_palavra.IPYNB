{
 "cells": [
  {
   "metadata": {},
   "cell_type": "markdown",
   "source": "### ***Conta Palavras***"
  },
  {
   "cell_type": "code",
   "metadata": {},
   "source": [
    "from pyspark.sql import SparkSession\n",
    "from pyspark.sql.functions import explode, split, length, col"
   ],
   "outputs": [],
   "execution_count": null
  },
  {
   "cell_type": "markdown",
   "metadata": {},
   "source": "### ***Inicia a Sessão Pyspark***"
  },
  {
   "cell_type": "code",
   "metadata": {},
   "source": "spark = SparkSession.builder.appName(\"WordCount\").getOrCreate()",
   "outputs": [],
   "execution_count": null
  },
  {
   "cell_type": "markdown",
   "metadata": {},
   "source": "### ***Leitura do arquivo README***"
  },
  {
   "cell_type": "code",
   "metadata": {},
   "source": "readme_df = spark.read.text(\"../../Sprint_1/Desafio/README.md\")",
   "outputs": [],
   "execution_count": null
  },
  {
   "cell_type": "markdown",
   "metadata": {},
   "source": "### ***Filtro e contagem de palavras do arquivo README***"
  },
  {
   "cell_type": "code",
   "metadata": {},
   "source": [
    "words = readme_df.select(explode(split(col(\"value\"),\"\\\\s+\")).alias(\"word\"))\n",
    "filtro_words = words.filter(length(col(\"word\")) > 3)\n",
    "words_count = filtro_words.groupBy(\"word\").count()\n",
    "words_count = words_count.orderBy(col(\"count\").desc())"
   ],
   "outputs": [],
   "execution_count": null
  },
  {
   "cell_type": "markdown",
   "metadata": {},
   "source": "### ***Mostra a tabela de contagem de palavras***"
  },
  {
   "cell_type": "code",
   "metadata": {},
   "source": "words_count.show()",
   "outputs": [],
   "execution_count": null
  },
  {
   "metadata": {},
   "cell_type": "markdown",
   "source": "### **Encerra a sessão Pyspark**"
  },
  {
   "metadata": {},
   "cell_type": "code",
   "source": "spark.stop()",
   "outputs": [],
   "execution_count": null
  }
 ],
 "metadata": {
  "kernelspec": {
   "display_name": "Python 3",
   "language": "python",
   "name": "python3"
  },
  "language_info": {
   "codemirror_mode": {
    "name": "ipython",
    "version": 3
   },
   "file_extension": ".py",
   "mimetype": "text/x-python",
   "name": "python",
   "nbconvert_exporter": "python",
   "pygments_lexer": "ipython3",
   "version": "3.11.9"
  }
 },
 "nbformat": 4,
 "nbformat_minor": 2
}
