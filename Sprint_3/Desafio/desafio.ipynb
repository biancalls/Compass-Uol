{
 "cells": [
  {
   "cell_type": "code",
   "id": "initial_id",
   "metadata": {
    "collapsed": true
   },
   "source": [
    "#removendo duplicata\n",
    "import pandas as pd\n",
    "import matplotlib.pyplot as plt\n",
    "import numpy as np\n",
    "\n",
    "df = pd.read_csv(\"C:\\\\Users\\\\bianc\\\\PycharmProjects\\\\pythonProject\\\\desafio\\\\googleplaystore.csv\")\n",
    "\n",
    "df = df.drop_duplicates()\n",
    "#mostrar as primerias linhas\n",
    "df.head()"
   ],
   "outputs": [],
   "execution_count": null
  },
  {
   "metadata": {},
   "cell_type": "code",
   "source": [
    "#grafico de barra op 5 apps por n° de instalação\n",
    "\n",
    "df['Installs'] = df['Installs'].str.replace(',', '',regex=False).str.replace('+', '',regex=False).astype(str)\n",
    "df['Installs'] = pd.to_numeric(df['Installs'], errors='coerce')\n",
    "\n",
    "#agrupando o numero de instalação por app\n",
    "group_df = df.groupby('App')['Installs'].sum().reset_index()\n",
    "\n",
    "#colocando em ordem decrescente\n",
    "sorted_df = group_df.sort_values(by='Installs', ascending=False)\n",
    "\n",
    "#analisando os 5 primerios app\n",
    "top_5_apps = sorted_df.head(5)\n",
    "\n",
    "#gráfio de barras\n",
    "plt.figure(figsize=(10, 6))\n",
    "plt.bar(top_5_apps['App'], top_5_apps['Installs'])\n",
    "plt.xlabel('App')\n",
    "plt.ylabel('Installs')\n",
    "plt.title('Top 5 Apps')\n",
    "plt.xticks(rotation=45)\n",
    "plt.grid(axis='x')\n",
    "plt.show()"
   ],
   "id": "a8dec4b4e7757343",
   "outputs": [],
   "execution_count": null
  },
  {
   "metadata": {},
   "cell_type": "code",
   "source": [
    "#pegando as categorias do app\n",
    "category_cont = df['Category'].value_counts()\n",
    "#gráfico de pizza\n",
    "plt.figure(figsize=(8, 8))\n",
    "plt.pie(category_cont, labels=category_cont.index, autopct='%1.1f%%',startangle=140)\n",
    "plt.title('App Categories')\n",
    "plt.show()"
   ],
   "id": "e5c1075c07cb369c",
   "outputs": [],
   "execution_count": null
  },
  {
   "metadata": {},
   "cell_type": "code",
   "source": [
    "\n",
    "#cenvertendo a coluna price para float, tratando erros\n",
    "def conversor(preço):\n",
    "     try:\n",
    "         if isinstance(preço,str):\n",
    "            return float(preço.replace('$', '').strip())\n",
    "         else:\n",
    "            return float(preço)\n",
    "     except ValueError:\n",
    "         return np.nan\n",
    "\n",
    "df['Price'] = df['Price'].apply(conversor)\n",
    "\n",
    "#filtra somente os app pagos (apos tratamento de dados)\n",
    "app_pagos = df[df['Price'] != 0]\n",
    "#verifica se há valores nan e os remove \n",
    "if app_pagos['Price'].isna().any():\n",
    "    app_pagos = app_pagos.dropna(subset=['Price'])\n",
    "#Seleciona o app mais caro entre os pagos ignora\n",
    "app_mais_caro = app_pagos.loc[app_pagos['Price'].idxmax(skipna=True)]\n",
    "print(f'O app mais caro é {app_mais_caro['App']} e custa R${app_mais_caro[\"Price\"]:.2f}')"
   ],
   "id": "de27db320c5b3f78",
   "outputs": [],
   "execution_count": null
  },
  {
   "metadata": {},
   "cell_type": "code",
   "source": [
    "#contagem dos app classificados como Matur 17+\n",
    "mature_apps = df[df['Content Rating'] == 'Mature 17+'].shape[0]\n",
    "print('Número de apps Mature 17+:', mature_apps)"
   ],
   "id": "251f88a9b1f21c47",
   "outputs": [],
   "execution_count": null
  },
  {
   "metadata": {},
   "cell_type": "code",
   "source": [
    "#ordena os app por numero de reviews de forma decrescente\n",
    "top_apps_reviews = df.sort_values(by='Reviews', ascending=False)\n",
    "#seleciona os 10 maiores apps\n",
    "top_10_apps = top_apps_reviews.head(10)\n",
    "#criação da lista\n",
    "top_10_lista = [(app,reviews) for app,reviews in zip(top_10_apps['App'],top_10_apps['Reviews'])]\n",
    "#resultado lista\n",
    "print('Top 10 Apps por Reviews:')\n",
    "for app, reviews in top_10_lista:\n",
    "    print(f'{app}: {reviews}')"
   ],
   "id": "44e1357db9d2794e",
   "outputs": [],
   "execution_count": null
  },
  {
   "metadata": {},
   "cell_type": "code",
   "source": [
    "# contagem da quantidade de app gratiutos do dataset\n",
    "free_apps = df[df['Price'] == 0 ].shape[0]\n",
    "print('Número de apps gratuitos:', free_apps)"
   ],
   "id": "bf31be7bc5b38318",
   "outputs": [],
   "execution_count": null
  },
  {
   "metadata": {},
   "cell_type": "code",
   "source": [
    "#ordenando os app por ordem crescente\n",
    "pior_rating_app = df.sort_values(by='Rating', ascending=True)\n",
    "#seleciona os 10 com menor rating\n",
    "dez_piores = pior_rating_app.head(10)\n",
    "#cria uma lista\n",
    "lista_10_piores = [(app,rating) for app, rating in zip(dez_piores['App'], dez_piores['Rating'])]\n",
    "#resultado\n",
    "print('10 Apps com menor rating:')\n",
    "for app,rating in lista_10_piores:\n",
    "    print(f'{app}: {rating}')"
   ],
   "id": "f4611c3ab273f526",
   "outputs": [],
   "execution_count": null
  },
  {
   "metadata": {},
   "cell_type": "code",
   "source": [
    "#ordena os app por n° de reviews\n",
    "top_apps_reviews = df.sort_values(by='Reviews', ascending=False)\n",
    "#seleciona os 10 maiores app\n",
    "top_10_apps = top_apps_reviews.head(10)\n",
    "#grafico de barras horizontais\n",
    "plt.figure(figsize=(10,6))\n",
    "plt.barh(top_10_apps['App'], top_10_apps['Reviews'])\n",
    "plt.xlabel('App')\n",
    "plt.ylabel('Reviews')\n",
    "plt.title('Top 10 Apps')\n",
    "plt.xticks(rotation=45, ha='right')\n",
    "plt.gca().invert_yaxis() \n",
    "plt.grid(axis='x')\n",
    "plt.show()"
   ],
   "id": "a6a585a9fae7fa39",
   "outputs": [],
   "execution_count": null
  },
  {
   "metadata": {},
   "cell_type": "code",
   "source": [
    "#filtro dos app pagos\n",
    "app_pagos = df[df['Price'] != 0]\n",
    "\n",
    "#criando histograma\n",
    "plt.hist(app_pagos['Reviews'], bins=10, color = 'orange', edgecolor='black')\n",
    "plt.xscale('log')\n",
    "plt.xlabel('Reviews')\n",
    "plt.ylabel('Frequências')\n",
    "plt.title('Distribuição de Reviews dos Aplicativos Pagos')\n",
    "plt.show()\n"
   ],
   "id": "ec89e0a6e3faaf77",
   "outputs": [],
   "execution_count": null
  }
 ],
 "metadata": {
  "kernelspec": {
   "display_name": "Python 3",
   "language": "python",
   "name": "python3"
  },
  "language_info": {
   "codemirror_mode": {
    "name": "ipython",
    "version": 2
   },
   "file_extension": ".py",
   "mimetype": "text/x-python",
   "name": "python",
   "nbconvert_exporter": "python",
   "pygments_lexer": "ipython2",
   "version": "2.7.6"
  }
 },
 "nbformat": 4,
 "nbformat_minor": 5
}
