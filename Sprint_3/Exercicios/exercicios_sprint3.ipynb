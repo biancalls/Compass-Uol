{
 "cells": [
  {
   "cell_type": "code",
   "id": "initial_id",
   "metadata": {
    "collapsed": true
   },
   "source": [
    "def calcular_100(nome,idade_att):\n",
    "    import datetime\n",
    "    ano = datetime.datetime.now().year\n",
    "    idade_100 = 100 - idade_att\n",
    "    ano_100 = ano + idade_100\n",
    "    print(f'{ano_100}')\n",
    "    \n",
    "nome = 'Bianca'\n",
    "idade = int('28')\n",
    "calcular_100(nome,idade)"
   ],
   "outputs": [],
   "execution_count": null
  },
  {
   "metadata": {},
   "cell_type": "code",
   "source": [
    "numeros = list(range(2,5))\n",
    "for numero in numeros:\n",
    "    if numero % 2 ==0:\n",
    "        print(f'Par: {numero}')\n",
    "    else:\n",
    "        print(f'Ímpar: {numero}')"
   ],
   "id": "268ad2737afcbf62",
   "outputs": [],
   "execution_count": null
  },
  {
   "metadata": {},
   "cell_type": "code",
   "source": [
    "for numeros in range(0,21,2):\n",
    "    print(f'{numeros}')"
   ],
   "id": "5f35105cac872e5b",
   "outputs": [],
   "execution_count": null
  },
  {
   "metadata": {},
   "cell_type": "code",
   "source": [
    "def primos(numeros):\n",
    "    if numeros <= 1:\n",
    "        return False\n",
    "    if numeros <= 3:\n",
    "        return True\n",
    "    if numeros % 2 == 0 or numeros % 3 == 0:\n",
    "        return False\n",
    "    i = 5\n",
    "    while i * i <= numeros:\n",
    "        if numeros % i == 0 or numeros % (i+2) == 0:\n",
    "            return False\n",
    "        i += 6\n",
    "    return True\n",
    "        \n",
    "for numeros in range(1,101):\n",
    "    if primos(numeros):\n",
    "        print(numeros)"
   ],
   "id": "b1c28c5b5b3666b2",
   "outputs": [],
   "execution_count": null
  },
  {
   "metadata": {},
   "cell_type": "code",
   "source": [
    "dia = int(22)\n",
    "mes = int(10)\n",
    "ano = int(2022)\n",
    "print(f'{dia}/{mes}/{ano}')"
   ],
   "id": "d92f767c575c96ef",
   "outputs": [],
   "execution_count": null
  },
  {
   "metadata": {},
   "cell_type": "code",
   "source": [
    "a = [1, 1, 2, 3, 5, 8, 14, 21, 34, 55, 89]\n",
    "b = [1, 2, 3, 4, 5, 6, 7, 8, 9, 10, 11, 12, 13, 14, 15]\n",
    "lista_a = set(a)\n",
    "lista_b = set(b)\n",
    "comun = lista_a.intersection(lista_b)\n",
    "intersecao = list(comun)\n",
    "print(intersecao)"
   ],
   "id": "d84d2561f73daadc",
   "outputs": [],
   "execution_count": null
  },
  {
   "metadata": {},
   "cell_type": "code",
   "source": [
    "a = [1, 4, 9, 16, 25, 36, 49, 64, 81, 100]\n",
    "impares = list()\n",
    "for numeros in a:\n",
    "    if numeros % 2 != 0:\n",
    "        impares.append(numeros)\n",
    "        \n",
    "print(impares)"
   ],
   "id": "d4c5d12d9e3f51d3",
   "outputs": [],
   "execution_count": null
  },
  {
   "metadata": {},
   "cell_type": "code",
   "source": [
    "palavras = ['maça', 'arara', 'audio', 'radio', 'radar', 'moto'] \n",
    "\n",
    "for palavra in palavras:\n",
    "    if palavra == palavra[::-1]:\n",
    "        print(f'A palavra: {palavra} é um palíndromo')\n",
    "    else:\n",
    "        print(f'A palavra: {palavra} não é um palíndromo')"
   ],
   "id": "f2dae9bdc531ded4",
   "outputs": [],
   "execution_count": null
  },
  {
   "metadata": {},
   "cell_type": "code",
   "source": [
    "primeirosNomes = ['Joao', 'Douglas', 'Lucas', 'José']\n",
    "sobreNomes = ['Soares', 'Souza', 'Silveira', 'Pedreira']\n",
    "idades = [19, 28, 25, 31]\n",
    "for indice, (primeirosNomes, sobreNomes, idades) in enumerate(zip(primeirosNomes, sobreNomes, idades)):\n",
    "    print(f'{indice} - {primeirosNomes} {sobreNomes} está com {idades} anos')"
   ],
   "id": "5afca4cf061830a9",
   "outputs": [],
   "execution_count": null
  },
  {
   "metadata": {},
   "cell_type": "code",
   "source": [
    "def sem_duplicadas(lista):\n",
    "    return list(set(lista))\n",
    "\n",
    "lista = ['abc', 'abc', 'abc', '123', 'abc', '123', '123']\n",
    "lista_a = sem_duplicadas(lista)\n",
    "print(lista_a)"
   ],
   "id": "668d9bee427f195e",
   "outputs": [],
   "execution_count": null
  },
  {
   "metadata": {},
   "cell_type": "code",
   "source": [
    "import json\n",
    "with open('person.json', 'r') as arquivo:\n",
    "    dados = json.load(arquivo)\n",
    "print(dados)"
   ],
   "id": "cc8a44df7696e828",
   "outputs": [],
   "execution_count": null
  },
  {
   "metadata": {},
   "cell_type": "code",
   "source": [
    "def my_map(lista,f):\n",
    "    resultado = []\n",
    "    for n in lista:\n",
    "        resultado.append(f(n))\n",
    "    return resultado\n",
    "\n",
    "\n",
    "numeros = [1, 2, 3, 4, 5, 6, 7, 8, 9, 10]\n",
    "\n",
    "def quadrado(x):\n",
    "    return x**2\n",
    "\n",
    "\n",
    "resultado = my_map(numeros,quadrado)\n",
    "print(resultado)"
   ],
   "id": "7bf179c076667b9",
   "outputs": [],
   "execution_count": null
  },
  {
   "metadata": {},
   "cell_type": "code",
   "source": [
    "def abrir_arquivo(nome_arquivo):\n",
    "    try:\n",
    "        with open(nome_arquivo, 'r') as arquivo:\n",
    "            conteudo = arquivo.read()\n",
    "            print(conteudo, end = '')\n",
    "    except FileNotFoundError:\n",
    "        print(f'O arquivo {nome_arquivo} não foi encontrado')\n",
    "        \n",
    "abrir_arquivo(\"arquivo_texto.txt\")"
   ],
   "id": "1e06ee831fbc4c37",
   "outputs": [],
   "execution_count": null
  },
  {
   "metadata": {},
   "cell_type": "code",
   "source": [
    "def imp_parametros(*par1, **par2):\n",
    "    for n in par1:\n",
    "        print(str(n).strip())\n",
    "    \n",
    "    for c,v in par2.items():\n",
    "        print(f\"{v}\")\n",
    "        \n",
    "imp_parametros(1,3,4,'hello', parametro_nomeado ='alguma coisa',x = 20)"
   ],
   "id": "641caeeaab6b5ab7",
   "outputs": [],
   "execution_count": null
  },
  {
   "metadata": {},
   "cell_type": "code",
   "source": [
    "class Lampada:\n",
    "    def __init__(self, estado):\n",
    "        self.ligada = estado\n",
    "        \n",
    "    def liga(self):\n",
    "        self.ligada = True\n",
    "        \n",
    "    def desliga(self):\n",
    "        self.ligada = False\n",
    "        \n",
    "    def esta_ligada(self):\n",
    "        return self.ligada\n",
    "        \n",
    "lampada = Lampada(False)\n",
    "\n",
    "lampada.liga()\n",
    "\n",
    "print('A lâmpada está ligada?', lampada.esta_ligada())\n",
    "\n",
    "lampada.desliga()\n",
    "\n",
    "print('A lâmpada ainda está ligada?', lampada.esta_ligada())\n"
   ],
   "id": "60b145bd067e3734",
   "outputs": [],
   "execution_count": null
  },
  {
   "metadata": {},
   "cell_type": "code",
   "source": [
    "def soma(str_num):\n",
    "    numeros = str_num.split(',')\n",
    "    soma = 0\n",
    "    for num in numeros:\n",
    "        soma += int(num)\n",
    "    return soma\n",
    "    \n",
    "str_num = \"1,3,4,6,10,76\"\n",
    "resposta = soma(str_num)\n",
    "print(resposta)"
   ],
   "id": "b8057ce2349436bd",
   "outputs": [],
   "execution_count": null
  },
  {
   "metadata": {},
   "cell_type": "code",
   "source": [
    "def div_lista(lista):\n",
    "    tamanho = len(lista)\n",
    "    divisao = tamanho // 3\n",
    "    p1 = lista[:divisao]\n",
    "    p2 = lista[divisao:divisao*2]\n",
    "    p3 = lista[divisao*2:]\n",
    "    return p1, p2, p3\n",
    "    \n",
    "lista = [1, 2, 3, 4, 5, 6, 7, 8, 9, 10, 11, 12] \n",
    "\n",
    "p1, p2, p3 = div_lista(lista)\n",
    "\n",
    "print(p1, end=' ')\n",
    "print(p2,end=' ')\n",
    "print(p3)\n"
   ],
   "id": "2831ceddfcd09ead",
   "outputs": [],
   "execution_count": null
  },
  {
   "metadata": {},
   "cell_type": "code",
   "source": [
    "speed = {'jan':47, 'feb':52, 'march':47, 'April':44, 'May':52, 'June':53, 'july':54, 'Aug':44, 'Sept':54}\n",
    "\n",
    "dados = set(speed.values())\n",
    "nova_lista = list(dados)\n",
    "print(nova_lista)\n"
   ],
   "id": "9a4c4499857a9dc5",
   "outputs": [],
   "execution_count": null
  },
  {
   "metadata": {},
   "cell_type": "code",
   "source": [
    "import random\n",
    "\n",
    "random_list = random.sample(range(500), 50)\n",
    "random_list.sort()\n",
    "\n",
    "media = sum(random_list) / len(random_list)\n",
    "valor_minimo = min(random_list)\n",
    "valor_maximo = max(random_list)\n",
    "\n",
    "if len(random_list) % 2 == 0:\n",
    "    metade = len(random_list) // 2\n",
    "    mediana = (random_list[metade-1] + random_list[metade]) / 2\n",
    "else:\n",
    "    mediana = random_list[len(random_list) // 2]\n",
    "    \n",
    "print(f'Media: {media:.2f}', end=', ')\n",
    "print(f'Mediana: {mediana}', end=', ')\n",
    "print(f'Mínimo: {valor_minimo}', end=', ')\n",
    "print(f'Máximo: {valor_maximo}')"
   ],
   "id": "30adacdd72adf495",
   "outputs": [],
   "execution_count": null
  },
  {
   "metadata": {},
   "cell_type": "code",
   "source": [
    "a = [1, 0, 2, 3, 5, 8, 13, 21, 34, 55, 89]\n",
    "dados = a[::-1]\n",
    "print(dados)"
   ],
   "id": "53bd47076047a719",
   "outputs": [],
   "execution_count": null
  },
  {
   "metadata": {},
   "cell_type": "code",
   "source": [
    "class Passaro:\n",
    "    def voar(self):\n",
    "        print('Voando...')\n",
    "        \n",
    "    def som(self):\n",
    "        pass\n",
    "    \n",
    "class Pato(Passaro):\n",
    "    def som(self):\n",
    "        print('\\nPato emitindo som...')\n",
    "        print('Quack Quack')\n",
    "        \n",
    "class Pardal(Passaro):\n",
    "    def som(self):\n",
    "        print('\\nPardal emitindo som...')\n",
    "        print('Piu Piu')\n",
    "        \n",
    "pato = Pato()\n",
    "pardal = Pardal()\n",
    "\n",
    "print('Pato')\n",
    "pato.voar()\n",
    "pato.som()\n",
    "\n",
    "print('Pardal')\n",
    "pardal.voar()\n",
    "pardal.som()\n"
   ],
   "id": "e8075ca9a4f0eaaf",
   "outputs": [],
   "execution_count": null
  },
  {
   "metadata": {},
   "cell_type": "code",
   "source": [
    "class Pessoa:\n",
    "    def __init__(self, id):\n",
    "        self.id = id\n",
    "        self.__nome = None\n",
    "        \n",
    "    @property\n",
    "    def nome(self):\n",
    "        return self.__nome\n",
    "        \n",
    "    @nome.setter\n",
    "    def nome(self, novo_nome):\n",
    "        self.__nome = novo_nome\n",
    "        \n",
    "pessoa = Pessoa(0)\n",
    "pessoa.nome = 'Fulano De Tal'\n",
    "print(pessoa.nome)"
   ],
   "id": "6fbe3bed8aaf0279",
   "outputs": [],
   "execution_count": null
  },
  {
   "metadata": {},
   "cell_type": "code",
   "source": [
    "class Calculo:\n",
    "    def soma(self,x,y):\n",
    "        return x + y\n",
    "    \n",
    "    def menos(self,x,y):\n",
    "        return x - y\n",
    "    \n",
    "dados = Calculo()\n",
    "x = 4\n",
    "y = 5\n",
    "\n",
    "resp_soma = dados.soma(x,y)\n",
    "resp_menos = dados.menos(x,y)\n",
    "\n",
    "print(f'Somando: {x}+{y} = {resp_soma}')\n",
    "print(f'Subtraindo: {x}-{y} = {resp_menos}')"
   ],
   "id": "3165e53a462579e5",
   "outputs": [],
   "execution_count": null
  },
  {
   "metadata": {},
   "cell_type": "code",
   "source": [
    "class Ordenadora:\n",
    "    def __init__(self, listaBaguncada):\n",
    "        self.listaBaguncada = listaBaguncada\n",
    "        \n",
    "    def ordenacaoCrescente(self):\n",
    "        self.listaBaguncada.sort()\n",
    "        return self.listaBaguncada\n",
    "        \n",
    "    def ordenacaoDecrescente(self):\n",
    "        self.listaBaguncada.sort(reverse=True)\n",
    "        return self.listaBaguncada\n",
    "        \n",
    "crescente = Ordenadora([3,4,2,1,5])\n",
    "decrescente = Ordenadora([9,7,6,8])\n",
    "\n",
    "resp_cresc = crescente.ordenacaoCrescente()\n",
    "resp_decres = decrescente.ordenacaoDecrescente()\n",
    "\n",
    "print(resp_cresc)\n",
    "print(resp_decres)"
   ],
   "id": "4011178b1bcd26b6",
   "outputs": [],
   "execution_count": null
  },
  {
   "metadata": {},
   "cell_type": "code",
   "source": [
    "class Aviao:\n",
    "    def __init__(self,modelo,velocidade_maxima,capacidade):\n",
    "        self.modelo = modelo\n",
    "        self.velocidade_maxima = velocidade_maxima\n",
    "        self.capacidade = capacidade\n",
    "        self.cor = \"azul\"\n",
    "        \n",
    "avioes = []\n",
    "\n",
    "av1 = Aviao('BOIENG456',1500,400)\n",
    "av2 = Aviao('Embraer Praetor 600',863,14)\n",
    "av3 = Aviao('Antonov An-2',258,12)\n",
    "\n",
    "avioes.append(av1)\n",
    "avioes.append(av2)\n",
    "avioes.append(av3)\n",
    "\n",
    "for aviao in avioes:\n",
    "    print(f\"O avião de modelo {aviao.modelo} possui uma velocidade máxima de {aviao.velocidade_maxima}, capacidade para {aviao.capacidade} passageiros e é da cor {aviao.cor}.\")"
   ],
   "id": "53ada952871d8bd7",
   "outputs": [],
   "execution_count": null
  },
  {
   "metadata": {},
   "cell_type": "markdown",
   "source": "",
   "id": "4eae88338e04fa9c"
  },
  {
   "metadata": {},
   "cell_type": "markdown",
   "source": "",
   "id": "83f91d1958d1dc26"
  },
  {
   "metadata": {},
   "cell_type": "markdown",
   "source": "",
   "id": "490512709da997f8"
  },
  {
   "metadata": {},
   "cell_type": "markdown",
   "source": "",
   "id": "9d886a53ccab04ba"
  },
  {
   "metadata": {},
   "cell_type": "markdown",
   "source": "",
   "id": "c010618a214e2301"
  },
  {
   "metadata": {},
   "cell_type": "markdown",
   "source": "",
   "id": "6cb5461b4aa41eb"
  },
  {
   "metadata": {},
   "cell_type": "markdown",
   "source": "",
   "id": "2d7fd08e3042c16"
  },
  {
   "metadata": {},
   "cell_type": "markdown",
   "source": "",
   "id": "8ac183b251888b95"
  }
 ],
 "metadata": {
  "kernelspec": {
   "display_name": "Python 3",
   "language": "python",
   "name": "python3"
  },
  "language_info": {
   "codemirror_mode": {
    "name": "ipython",
    "version": 2
   },
   "file_extension": ".py",
   "mimetype": "text/x-python",
   "name": "python",
   "nbconvert_exporter": "python",
   "pygments_lexer": "ipython2",
   "version": "2.7.6"
  }
 },
 "nbformat": 4,
 "nbformat_minor": 5
}
