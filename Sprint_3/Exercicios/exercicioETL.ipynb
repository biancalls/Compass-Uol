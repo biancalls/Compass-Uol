{
 "cells": [
  {
   "metadata": {
    "ExecuteTime": {
     "end_time": "2024-09-27T23:22:42.337403Z",
     "start_time": "2024-09-27T23:22:42.331018Z"
    }
   },
   "cell_type": "code",
   "source": [
    "import csv\n",
    "from collections import Counter\n",
    "def dic_atores(dados_csv):\n",
    "    dados_csv = \"C:\\\\Users\\\\bianc\\\\PycharmProjects\\\\pythonProject\\\\exercicioETL\\\\actors.csv\"\n",
    "    atores = {}\n",
    "    with open(dados_csv, 'r') as arquivo:\n",
    "        reader = csv.reader(arquivo)\n",
    "        header = next(reader)\n",
    "        for linhas in reader:\n",
    "            ator = {}\n",
    "            for chave, valor in zip(header, linhas):\n",
    "                ator[chave] = valor\n",
    "            atores[ator['Actor']] = ator\n",
    "    return atores\n",
    "\n",
    "hollywood = dic_atores(\"C:\\\\Users\\\\bianc\\\\PycharmProjects\\\\pythonProject\\\\exercicioETL\\\\etapa_1.txt\")"
   ],
   "id": "31a612855bd75097",
   "outputs": [],
   "execution_count": 8
  },
  {
   "metadata": {
    "ExecuteTime": {
     "end_time": "2024-09-27T23:22:42.434917Z",
     "start_time": "2024-09-27T23:22:42.426242Z"
    }
   },
   "cell_type": "code",
   "source": [
    "def maior_numerodefilmes(atores, dados_txt):\n",
    "    dados_txt = \"C:\\\\Users\\\\bianc\\\\PycharmProjects\\\\pythonProject\\\\exercicioETL\\\\etapa_1.txt\"\n",
    "    ator_maior = max(atores, key=lambda ator: int(atores[ator]['Number of Movies']))\n",
    "    dados_ator = atores[ator_maior]\n",
    "\n",
    "    with open(dados_txt,'w') as saida:\n",
    "        for chave, valor in dados_ator.items():\n",
    "            saida.write(f\"{chave}: {valor}\\n\")\n",
    "\n",
    "maior_numerodefilmes(hollywood , \"C:\\\\Users\\\\bianc\\\\PycharmProjects\\\\pythonProject\\\\exercicioETL\\\\etapa_1.txt\")"
   ],
   "id": "a1f8510e4dd6bee3",
   "outputs": [],
   "execution_count": 9
  },
  {
   "metadata": {
    "ExecuteTime": {
     "end_time": "2024-09-27T23:22:42.528841Z",
     "start_time": "2024-09-27T23:22:42.449328Z"
    }
   },
   "cell_type": "code",
   "source": [
    "def contador_mediagross(atores):\n",
    "    total_receita = 0\n",
    "    num_filmes = 0\n",
    "    for ator in atores.values():\n",
    "        total_receita += float(ator['Gross'])\n",
    "        num_filmes += 1\n",
    "    media = total_receita / num_filmes\n",
    "    return round(media, 2)\n",
    "\n",
    "def media_gross(atores, dados2_txt):\n",
    "    dados2_txt = \"C:\\\\Users\\\\bianc\\\\PycharmProjects\\\\pythonProject\\\\exercicioETL\\\\etapa_2.txt\"\n",
    "\n",
    "    with open(dados2_txt, 'w') as arquivo2:\n",
    "        arquivo2.write(f'A media da receita bruta dos principais filmes : {media:.2f}')\n",
    "\n",
    "media = contador_mediagross(hollywood)\n",
    "media_gross(media,\"C:\\\\Users\\\\bianc\\\\PycharmProjects\\\\pythonProject\\\\exercicioETL\\\\etapa_2.txt\")"
   ],
   "id": "2156878543a8e494",
   "outputs": [],
   "execution_count": 10
  },
  {
   "metadata": {
    "ExecuteTime": {
     "end_time": "2024-09-27T23:22:42.613717Z",
     "start_time": "2024-09-27T23:22:42.542621Z"
    }
   },
   "cell_type": "code",
   "source": [
    "def media_average(atores,chave):\n",
    "    maior_valor = None\n",
    "    ator_maior = None\n",
    "    for ator, dados in atores.items():\n",
    "        valor = float(dados['Average per Movie'])\n",
    "        if maior_valor is None or valor > maior_valor:\n",
    "            maior_valor = valor\n",
    "            ator_maior = ator\n",
    "    return ator_maior, maior_valor\n",
    "\n",
    "maior_valor, ator_maior = media_average(hollywood,\"Average per Movie\")\n",
    "\n",
    "\n",
    "dados3_txt = \"C:\\\\Users\\\\bianc\\\\PycharmProjects\\\\pythonProject\\\\exercicioETL\\\\etapa_3.txt\"\n",
    "with open(dados3_txt, 'w') as arquivo3:\n",
    "       arquivo3.write(f'{ator_maior} : {maior_valor}')"
   ],
   "id": "e7c5d3c622c1b78b",
   "outputs": [],
   "execution_count": 11
  },
  {
   "metadata": {
    "ExecuteTime": {
     "end_time": "2024-09-27T23:22:42.731979Z",
     "start_time": "2024-09-27T23:22:42.627363Z"
    }
   },
   "cell_type": "code",
   "source": [
    "def cont_movie(hollywood):\n",
    "    contagem_filmes = Counter()\n",
    "    for ator in hollywood.values():\n",
    "        contagem_filmes[ator['#1 Movie']] += 1\n",
    "    return contagem_filmes\n",
    "\n",
    "def resultado(contagem_filmes,dados4_txt):\n",
    "    dados4_txt = \"C:\\\\Users\\\\bianc\\\\PycharmProjects\\\\pythonProject\\\\exercicioETL\\\\etapa_4.txt\"\n",
    "    with open (dados4_txt,'w') as arquivo4:\n",
    "        for filme, aparicoes in contagem_filmes.most_common():\n",
    "            arquivo4.write(f'O filme {filme} aparece {aparicoes} vez(es) no dataset \\n')\n",
    "\n",
    "contagem_filmes = cont_movie(hollywood)\n",
    "resultado(contagem_filmes,\"C:\\\\Users\\\\bianc\\\\PycharmProjects\\\\pythonProject\\\\exercicioETL\\\\etapa_4.txt\")\n"
   ],
   "id": "a07b7fd47367157b",
   "outputs": [],
   "execution_count": 12
  },
  {
   "metadata": {
    "ExecuteTime": {
     "end_time": "2024-09-27T23:22:42.897999Z",
     "start_time": "2024-09-27T23:22:42.746339Z"
    }
   },
   "cell_type": "code",
   "source": [
    "def ator_por_receita(hollywood):\n",
    "    atores_ordem = sorted(hollywood.items(), key=lambda x: float(x[1]['Total Gross']), reverse=True)\n",
    "    return atores_ordem\n",
    "\n",
    "def resultado(atores_ordem,dados5_txt):\n",
    "    dados5_txt = \"C:\\\\Users\\\\bianc\\\\PycharmProjects\\\\pythonProject\\\\exercicioETL\\\\etapa_5.txt\"\n",
    "    with open (dados5_txt,'w') as arquivo5:\n",
    "        for ator, dados in atores_ordem:\n",
    "            arquivo5.write(f'{ator} - {dados['Total Gross']}\\n')\n",
    "\n",
    "atores_ordem = ator_por_receita(hollywood)\n",
    "resultado(atores_ordem,\"C:\\\\Users\\\\bianc\\\\PycharmProjects\\\\pythonProject\\\\exercicioETL\\\\etapa_5.txt\")"
   ],
   "id": "de0ddec389f6d4f3",
   "outputs": [],
   "execution_count": 13
  },
  {
   "metadata": {
    "ExecuteTime": {
     "end_time": "2024-09-27T23:22:42.914767Z",
     "start_time": "2024-09-27T23:22:42.911766Z"
    }
   },
   "cell_type": "code",
   "source": "",
   "id": "a7861080645e9398",
   "outputs": [],
   "execution_count": null
  }
 ],
 "metadata": {
  "kernelspec": {
   "display_name": "Python 3",
   "language": "python",
   "name": "python3"
  },
  "language_info": {
   "codemirror_mode": {
    "name": "ipython",
    "version": 2
   },
   "file_extension": ".py",
   "mimetype": "text/x-python",
   "name": "python",
   "nbconvert_exporter": "python",
   "pygments_lexer": "ipython2",
   "version": "2.7.6"
  }
 },
 "nbformat": 4,
 "nbformat_minor": 5
}
