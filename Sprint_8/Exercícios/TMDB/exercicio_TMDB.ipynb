{
 "cells": [
  {
   "metadata": {},
   "cell_type": "markdown",
   "source": "## ***EXERCÍCIO TMDB***",
   "id": "33eb1dbdb7b7e8c3"
  },
  {
   "metadata": {},
   "cell_type": "code",
   "source": [
    "#Bibliotecas\n",
    "import requests\n",
    "import pandas as pd\n",
    "from IPython.display import display"
   ],
   "id": "1b141e135b6212ee",
   "outputs": [],
   "execution_count": null
  },
  {
   "metadata": {},
   "cell_type": "markdown",
   "source": "### ***Chave e URL***",
   "id": "e3ad145b4bc3559b"
  },
  {
   "metadata": {},
   "cell_type": "code",
   "source": "api_key = \"2ce95c22a056a72450964e21e7c4ab41\"",
   "id": "24b836b4e5d1f78f",
   "outputs": [],
   "execution_count": null
  },
  {
   "metadata": {},
   "cell_type": "code",
   "source": "url = f\"https://api.themoviedb.org/3/movie/top_rated?api_key={api_key}&language=pt-BR\"",
   "id": "6916754089aa2273",
   "outputs": [],
   "execution_count": null
  },
  {
   "metadata": {},
   "cell_type": "code",
   "source": [
    "response = requests.get(url)\n",
    "data = response.json()"
   ],
   "id": "3e765cfd2cd1800c",
   "outputs": [],
   "execution_count": null
  },
  {
   "metadata": {},
   "cell_type": "code",
   "source": "filmes = []",
   "id": "62c6fa1bf9657699",
   "outputs": [],
   "execution_count": null
  },
  {
   "metadata": {},
   "cell_type": "markdown",
   "source": "### ***Parametros para o DF***",
   "id": "6105683f7644531d"
  },
  {
   "metadata": {},
   "cell_type": "code",
   "source": [
    "for movie in data['results']:\n",
    "    df = {\n",
    "        'Titulo': movie['title'],\n",
    "        'Data de lançamento': movie ['release_date'],\n",
    "        'Visão geral': movie['overview'],\n",
    "        'Votos': movie['vote_count'],\n",
    "        'Média de votos:': movie['vote_average']\n",
    "        }\n",
    "\n",
    "    filmes.append(df)"
   ],
   "id": "2ff8e20c5c3694c2",
   "outputs": [],
   "execution_count": null
  },
  {
   "metadata": {},
   "cell_type": "code",
   "source": [
    "df = pd.DataFrame(filmes)\n",
    "display(df)"
   ],
   "id": "7b264938a4d491d2",
   "outputs": [],
   "execution_count": null
  }
 ],
 "metadata": {
  "kernelspec": {
   "display_name": "Python 3",
   "language": "python",
   "name": "python3"
  },
  "language_info": {
   "codemirror_mode": {
    "name": "ipython",
    "version": 2
   },
   "file_extension": ".py",
   "mimetype": "text/x-python",
   "name": "python",
   "nbconvert_exporter": "python",
   "pygments_lexer": "ipython2",
   "version": "2.7.6"
  }
 },
 "nbformat": 4,
 "nbformat_minor": 5
}
