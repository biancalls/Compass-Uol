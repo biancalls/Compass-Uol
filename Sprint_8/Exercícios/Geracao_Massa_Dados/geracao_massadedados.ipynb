{
 "cells": [
  {
   "metadata": {},
   "cell_type": "markdown",
   "source": "# **Geração de massa de dados**",
   "id": "ccabe5accfc2fac2"
  },
  {
   "metadata": {},
   "cell_type": "markdown",
   "source": "## **Etapa 01**",
   "id": "59f7aa8a2a64d914"
  },
  {
   "cell_type": "code",
   "id": "initial_id",
   "metadata": {
    "collapsed": true
   },
   "source": [
    "import random\n",
    "\n",
    "lista_numerica = [random.randint(1,1000) for i in range(250)]\n",
    "lista_numerica.reverse()\n",
    "print(lista_numerica)"
   ],
   "outputs": [],
   "execution_count": null
  },
  {
   "metadata": {},
   "cell_type": "markdown",
   "source": "## **Etapa 02**",
   "id": "a1cbf12e5e15a0c4"
  },
  {
   "metadata": {},
   "cell_type": "code",
   "source": [
    "import random\n",
    "\n",
    "animais = ['cachorro','gato','elefante','girafa','leão','tigre','macaco','panda','coelho','rato'\n",
    "           'cavalo','vaca','ovelha','porco','galinha','pato','peixe','pássaro','cabra','jacaré']\n",
    "\n",
    "random.shuffle(animais)\n",
    "animais.sort()\n",
    "for animal in animais:\n",
    "    print(animal)\n",
    "\n",
    "with open('animais.csv','w') as arquivos:\n",
    "    for animal in animais:\n",
    "        arquivos.write(f'{animal}\\n')"
   ],
   "id": "dd2230a294916708",
   "outputs": [],
   "execution_count": null
  },
  {
   "metadata": {},
   "cell_type": "markdown",
   "source": "## **Etapa 03**",
   "id": "487a36670e417107"
  },
  {
   "metadata": {},
   "cell_type": "code",
   "source": [
    "import names\n",
    "import random\n",
    "import os\n",
    "import time\n",
    "\n",
    "\n",
    "random.seed(40)\n",
    "\n",
    "qtd_nomes_unicos = 3000\n",
    "qtd_nomes_aleatorios = 10000000\n",
    "\n",
    "aux = []\n",
    "for i in range(0, qtd_nomes_unicos):\n",
    "    aux.append(names.get_full_name())\n",
    "print(f\"Gerando {qtd_nomes_aleatorios} nomes aleatorios\".format(qtd_nomes_aleatorios))\n",
    "\n",
    "dados = []\n",
    "for i in range(0, qtd_nomes_aleatorios):\n",
    "    dados.append(random.choice(aux))\n",
    "\n",
    "output_file = \"nomes_aleatorios.txt\"\n",
    "with open(output_file, \"w\",encoding='utf-8') as arquivo:\n",
    "    for nome in dados:\n",
    "        arquivo.write(nome + '\\n')\n",
    "\n",
    "print(f'Arquivo {output_file} criado com sucesso!')"
   ],
   "id": "7ef33b98210b111c",
   "outputs": [],
   "execution_count": null
  }
 ],
 "metadata": {
  "kernelspec": {
   "display_name": "Python 3",
   "language": "python",
   "name": "python3"
  },
  "language_info": {
   "codemirror_mode": {
    "name": "ipython",
    "version": 2
   },
   "file_extension": ".py",
   "mimetype": "text/x-python",
   "name": "python",
   "nbconvert_exporter": "python",
   "pygments_lexer": "ipython2",
   "version": "2.7.6"
  }
 },
 "nbformat": 4,
 "nbformat_minor": 5
}
