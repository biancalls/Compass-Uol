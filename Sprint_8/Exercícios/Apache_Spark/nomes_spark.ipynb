{
 "cells": [
  {
   "metadata": {},
   "cell_type": "markdown",
   "source": "# **EXERCÍCIO APACHE SPARK**",
   "id": "d9d60e82b5312ba9"
  },
  {
   "metadata": {},
   "cell_type": "markdown",
   "source": "### **Bibliotecas usada**",
   "id": "abdbcf78d2ff40a9"
  },
  {
   "cell_type": "code",
   "id": "initial_id",
   "metadata": {
    "collapsed": true,
    "ExecuteTime": {
     "end_time": "2024-11-25T18:50:57.501775Z",
     "start_time": "2024-11-25T18:50:53.185333Z"
    }
   },
   "source": [
    "from pyspark.sql import SparkSession\n",
    "from pyspark import SparkContext, SQLContext\n",
    "from pyspark.sql.functions import col,lit,rand,when\n"
   ],
   "outputs": [],
   "execution_count": 1
  },
  {
   "metadata": {},
   "cell_type": "markdown",
   "source": "### **Inicia a Sessão Spark**",
   "id": "288b80ea7034ead5"
  },
  {
   "metadata": {
    "ExecuteTime": {
     "end_time": "2024-11-25T18:51:24.705507Z",
     "start_time": "2024-11-25T18:50:57.732844Z"
    }
   },
   "cell_type": "code",
   "source": [
    "spark = SparkSession \\\n",
    "         .builder \\\n",
    "         .master(\"local[*]\")\\\n",
    "         .appName(\"Exercício Intro\") \\\n",
    "         .getOrCreate()"
   ],
   "id": "a43de305e4269ba4",
   "outputs": [],
   "execution_count": 2
  },
  {
   "metadata": {},
   "cell_type": "markdown",
   "source": "## **Etapa 01**",
   "id": "218dd3937bd6c0da"
  },
  {
   "metadata": {
    "ExecuteTime": {
     "end_time": "2024-11-25T18:51:42.755398Z",
     "start_time": "2024-11-25T18:51:26.173725Z"
    }
   },
   "cell_type": "code",
   "source": [
    "df_nomes = spark.read.csv(\"C:\\\\Users\\\\bianc\\\\PycharmProjects\\\\BiancaLages\\\\Sprint_8\\\\Exercícios\\\\Apache_Spark\\\\nomes_aleatorios.txt\", header=False, inferSchema=True)\n",
    "df_nomes.show(10)"
   ],
   "id": "fc00a3d5d3b800dc",
   "outputs": [
    {
     "name": "stdout",
     "output_type": "stream",
     "text": [
      "+-----------------+\n",
      "|              _c0|\n",
      "+-----------------+\n",
      "|   Frances Bennet|\n",
      "|    Jamie Russell|\n",
      "|   Edward Kistler|\n",
      "|    Sheila Maurer|\n",
      "| Donald Golightly|\n",
      "|       David Gray|\n",
      "|      Joy Bennett|\n",
      "|      Paul Kriese|\n",
      "|Berniece Ornellas|\n",
      "|    Brian Farrell|\n",
      "+-----------------+\n",
      "only showing top 10 rows\n",
      "\n"
     ]
    }
   ],
   "execution_count": 3
  },
  {
   "metadata": {},
   "cell_type": "markdown",
   "source": "## **Etapa 02**",
   "id": "154193280223d74c"
  },
  {
   "metadata": {
    "ExecuteTime": {
     "end_time": "2024-11-25T18:51:43.630918Z",
     "start_time": "2024-11-25T18:51:43.453911Z"
    }
   },
   "cell_type": "code",
   "source": [
    "df_nomes = df_nomes.withColumnRenamed('_c0','Nomes')\n",
    "df_nomes.show(10)"
   ],
   "id": "809b64d858109be7",
   "outputs": [
    {
     "name": "stdout",
     "output_type": "stream",
     "text": [
      "+-----------------+\n",
      "|            Nomes|\n",
      "+-----------------+\n",
      "|   Frances Bennet|\n",
      "|    Jamie Russell|\n",
      "|   Edward Kistler|\n",
      "|    Sheila Maurer|\n",
      "| Donald Golightly|\n",
      "|       David Gray|\n",
      "|      Joy Bennett|\n",
      "|      Paul Kriese|\n",
      "|Berniece Ornellas|\n",
      "|    Brian Farrell|\n",
      "+-----------------+\n",
      "only showing top 10 rows\n",
      "\n"
     ]
    }
   ],
   "execution_count": 4
  },
  {
   "metadata": {},
   "cell_type": "markdown",
   "source": "## **Etapa 03**",
   "id": "7ae9c9294e8543db"
  },
  {
   "metadata": {
    "ExecuteTime": {
     "end_time": "2024-11-25T18:51:44.459070Z",
     "start_time": "2024-11-25T18:51:43.645179Z"
    }
   },
   "cell_type": "code",
   "source": [
    "df_nomes = df_nomes.withColumn(\n",
    "    \"Escolaridade\",\n",
    "    when(rand() <= 0.33, lit(\"Fundamental\"))\n",
    "    .when((rand() > 0.33) & (rand() <= 0.66), lit(\"Médio\"))\n",
    "    .otherwise(lit(\"Superior\"))\n",
    ")\n",
    "df_nomes.show(10)"
   ],
   "id": "5bc8b7b02faa128f",
   "outputs": [
    {
     "name": "stdout",
     "output_type": "stream",
     "text": [
      "+-----------------+------------+\n",
      "|            Nomes|Escolaridade|\n",
      "+-----------------+------------+\n",
      "|   Frances Bennet| Fundamental|\n",
      "|    Jamie Russell|    Superior|\n",
      "|   Edward Kistler|    Superior|\n",
      "|    Sheila Maurer| Fundamental|\n",
      "| Donald Golightly|       Médio|\n",
      "|       David Gray| Fundamental|\n",
      "|      Joy Bennett|    Superior|\n",
      "|      Paul Kriese|       Médio|\n",
      "|Berniece Ornellas|       Médio|\n",
      "|    Brian Farrell| Fundamental|\n",
      "+-----------------+------------+\n",
      "only showing top 10 rows\n",
      "\n"
     ]
    }
   ],
   "execution_count": 5
  },
  {
   "metadata": {},
   "cell_type": "markdown",
   "source": "## **Etapa 04**",
   "id": "99b4228e5527f0f4"
  },
  {
   "metadata": {
    "ExecuteTime": {
     "end_time": "2024-11-25T18:51:46.991499Z",
     "start_time": "2024-11-25T18:51:46.586542Z"
    }
   },
   "cell_type": "code",
   "source": [
    "paises_sul_america = [\"Brasil\", \"Argentina\", \"Bolívia\", \"Chile\", \"Colômbia\", \"Equador\",\n",
    "                      \"Guiana\", \"Paraguai\", \"Peru\", \"Suriname\", \"Uruguai\", \"Venezuela\"]\n",
    "\n",
    "df_nomes = df_nomes.withColumn(\n",
    "    \"Pais\",\n",
    "    when(rand() <= 1/13, lit(\"Brasil\"))\n",
    "    .when(rand() <= 1/13, lit(\"Argentina\"))\n",
    "    .when(rand() <= 1/13, lit(\"Bolivia\"))\n",
    "    .when(rand() <= 1/13, lit(\"Chile\"))\n",
    "    .when(rand() <= 1/13, lit(\"Colombia\"))\n",
    "    .when(rand() <= 1/13, lit(\"Equador\"))\n",
    "    .when(rand() <= 1/13, lit(\"Guiana\"))\n",
    "    .when(rand() <= 1/13, lit(\"Paraguai\"))\n",
    "    .when(rand() <= 1/13, lit(\"Peru\"))\n",
    "    .when(rand() <= 1/13, lit(\"Suriname\"))\n",
    "    .when(rand() <= 1/13, lit(\"Uruguai\"))\n",
    "    .when(rand() <= 1/13, lit(\"Venezuela\"))\n",
    "    .otherwise(lit(\"Venezuela\"))\n",
    "\n",
    ")\n",
    "df_nomes.show(10)"
   ],
   "id": "ce34d8a2561058b0",
   "outputs": [
    {
     "name": "stdout",
     "output_type": "stream",
     "text": [
      "+-----------------+------------+---------+\n",
      "|            Nomes|Escolaridade|     Pais|\n",
      "+-----------------+------------+---------+\n",
      "|   Frances Bennet| Fundamental|   Brasil|\n",
      "|    Jamie Russell|    Superior|  Equador|\n",
      "|   Edward Kistler|    Superior|Venezuela|\n",
      "|    Sheila Maurer| Fundamental|  Bolivia|\n",
      "| Donald Golightly|       Médio|Venezuela|\n",
      "|       David Gray| Fundamental| Colombia|\n",
      "|      Joy Bennett|    Superior| Paraguai|\n",
      "|      Paul Kriese|       Médio|   Guiana|\n",
      "|Berniece Ornellas|       Médio|Venezuela|\n",
      "|    Brian Farrell| Fundamental|Argentina|\n",
      "+-----------------+------------+---------+\n",
      "only showing top 10 rows\n",
      "\n"
     ]
    }
   ],
   "execution_count": 6
  },
  {
   "metadata": {},
   "cell_type": "markdown",
   "source": "## **Etapa 05**",
   "id": "28bfdd126b2e403e"
  },
  {
   "metadata": {
    "ExecuteTime": {
     "end_time": "2024-11-25T18:51:50.702961Z",
     "start_time": "2024-11-25T18:51:49.999515Z"
    }
   },
   "cell_type": "code",
   "source": [
    "df_nomes = df_nomes.withColumn(\"AnoNascimento\", (rand() * 65 + 1945).cast(\"int\"))\n",
    "df_nomes.show(10)"
   ],
   "id": "51b0941372a353f8",
   "outputs": [
    {
     "name": "stdout",
     "output_type": "stream",
     "text": [
      "+-----------------+------------+---------+-------------+\n",
      "|            Nomes|Escolaridade|     Pais|AnoNascimento|\n",
      "+-----------------+------------+---------+-------------+\n",
      "|   Frances Bennet| Fundamental|   Brasil|         1987|\n",
      "|    Jamie Russell|    Superior|  Equador|         1952|\n",
      "|   Edward Kistler|    Superior|Venezuela|         1946|\n",
      "|    Sheila Maurer| Fundamental|  Bolivia|         1975|\n",
      "| Donald Golightly|       Médio|Venezuela|         1990|\n",
      "|       David Gray| Fundamental| Colombia|         1973|\n",
      "|      Joy Bennett|    Superior| Paraguai|         2008|\n",
      "|      Paul Kriese|       Médio|   Guiana|         1988|\n",
      "|Berniece Ornellas|       Médio|Venezuela|         1996|\n",
      "|    Brian Farrell| Fundamental|Argentina|         1987|\n",
      "+-----------------+------------+---------+-------------+\n",
      "only showing top 10 rows\n",
      "\n"
     ]
    }
   ],
   "execution_count": 7
  },
  {
   "metadata": {},
   "cell_type": "markdown",
   "source": "## **Etapa 06**",
   "id": "8d5e5af464a2b0f0"
  },
  {
   "metadata": {
    "ExecuteTime": {
     "end_time": "2024-11-25T18:51:51.341286Z",
     "start_time": "2024-11-25T18:51:50.854617Z"
    }
   },
   "cell_type": "code",
   "source": [
    "df_select = df_nomes.filter(col(\"AnoNascimento\") >= 2001)\n",
    "df_select.select(\"Nomes\").show(10)"
   ],
   "id": "c54dc086d664e40b",
   "outputs": [
    {
     "name": "stdout",
     "output_type": "stream",
     "text": [
      "+-----------------+\n",
      "|            Nomes|\n",
      "+-----------------+\n",
      "|      Joy Bennett|\n",
      "|  Howard Lazarine|\n",
      "|   Amanda Gravitt|\n",
      "|    George Miller|\n",
      "|    Evelyn Shaver|\n",
      "|Marguerite Rankin|\n",
      "|      Rita Walter|\n",
      "| Richelle Vasquez|\n",
      "|George Fiorentino|\n",
      "|    Melissa Rocha|\n",
      "+-----------------+\n",
      "only showing top 10 rows\n",
      "\n"
     ]
    }
   ],
   "execution_count": 8
  },
  {
   "metadata": {},
   "cell_type": "markdown",
   "source": "## **Etapa 07**",
   "id": "4e224337b559b83e"
  },
  {
   "metadata": {
    "ExecuteTime": {
     "end_time": "2024-11-25T18:51:52.687103Z",
     "start_time": "2024-11-25T18:51:51.539689Z"
    }
   },
   "cell_type": "code",
   "source": [
    "df_nomes.createOrReplaceTempView(\"pessoas\")\n",
    "spark.sql(\"select * from pessoas\").show()\n",
    "spark.sql(\"select * from pessoas where AnoNascimento >= 2001\").show()"
   ],
   "id": "c5752bd008e1ae7e",
   "outputs": [
    {
     "name": "stdout",
     "output_type": "stream",
     "text": [
      "+-----------------+------------+---------+-------------+\n",
      "|            Nomes|Escolaridade|     Pais|AnoNascimento|\n",
      "+-----------------+------------+---------+-------------+\n",
      "|   Frances Bennet| Fundamental|   Brasil|         1987|\n",
      "|    Jamie Russell|    Superior|  Equador|         1952|\n",
      "|   Edward Kistler|    Superior|Venezuela|         1946|\n",
      "|    Sheila Maurer| Fundamental|  Bolivia|         1975|\n",
      "| Donald Golightly|       Médio|Venezuela|         1990|\n",
      "|       David Gray| Fundamental| Colombia|         1973|\n",
      "|      Joy Bennett|    Superior| Paraguai|         2008|\n",
      "|      Paul Kriese|       Médio|   Guiana|         1988|\n",
      "|Berniece Ornellas|       Médio|Venezuela|         1996|\n",
      "|    Brian Farrell| Fundamental|Argentina|         1987|\n",
      "|   Kara Mcelwaine| Fundamental|Venezuela|         1945|\n",
      "|    Tracy Herring|       Médio| Suriname|         1983|\n",
      "|  Howard Lazarine|    Superior|   Guiana|         2008|\n",
      "|     Leroy Strahl|       Médio|Venezuela|         1965|\n",
      "|     Ernest Hulet| Fundamental|Venezuela|         1971|\n",
      "|     David Medina| Fundamental|   Brasil|         1994|\n",
      "|   Lorenzo Woodis|       Médio|Venezuela|         1945|\n",
      "|      Page Marthe| Fundamental|  Uruguai|         1996|\n",
      "|   Herbert Morris| Fundamental|  Bolivia|         1956|\n",
      "|      Albert Leef|    Superior|Venezuela|         1966|\n",
      "+-----------------+------------+---------+-------------+\n",
      "only showing top 20 rows\n",
      "\n",
      "+-----------------+------------+---------+-------------+\n",
      "|            Nomes|Escolaridade|     Pais|AnoNascimento|\n",
      "+-----------------+------------+---------+-------------+\n",
      "|      Joy Bennett|    Superior| Paraguai|         2008|\n",
      "|  Howard Lazarine|    Superior|   Guiana|         2008|\n",
      "|   Amanda Gravitt|    Superior|   Guiana|         2008|\n",
      "|    George Miller|    Superior|Venezuela|         2008|\n",
      "|    Evelyn Shaver| Fundamental|Venezuela|         2002|\n",
      "|Marguerite Rankin| Fundamental|Venezuela|         2003|\n",
      "|      Rita Walter|       Médio|Venezuela|         2003|\n",
      "| Richelle Vasquez| Fundamental|Venezuela|         2004|\n",
      "|George Fiorentino|       Médio|Venezuela|         2007|\n",
      "|    Melissa Rocha|    Superior| Colombia|         2006|\n",
      "|  Richard Cravens|       Médio|     Peru|         2006|\n",
      "|   Concetta Bowen| Fundamental|Venezuela|         2004|\n",
      "|   Gerald Tuplano|       Médio|    Chile|         2008|\n",
      "|   Mary Armstrong| Fundamental|   Brasil|         2005|\n",
      "|   Jackie Sanchez| Fundamental|     Peru|         2007|\n",
      "|        Leo Moore|       Médio|  Uruguai|         2005|\n",
      "|     Vivian Brown| Fundamental|Venezuela|         2008|\n",
      "|     Susan Keyser|    Superior|Venezuela|         2007|\n",
      "|Nicholas Faughnan|       Médio|Venezuela|         2007|\n",
      "|     Trina Norton| Fundamental|Argentina|         2001|\n",
      "+-----------------+------------+---------+-------------+\n",
      "only showing top 20 rows\n",
      "\n"
     ]
    }
   ],
   "execution_count": 9
  },
  {
   "metadata": {},
   "cell_type": "markdown",
   "source": "## **Etapa08**",
   "id": "29fa95429d3bd6ee"
  },
  {
   "metadata": {
    "ExecuteTime": {
     "end_time": "2024-11-25T18:51:55.583581Z",
     "start_time": "2024-11-25T18:51:52.863056Z"
    }
   },
   "cell_type": "code",
   "source": [
    "millennials = df_nomes.filter((col(\"AnoNascimento\") >= 1980) &(col(\"AnoNascimento\") <= 1994))\n",
    "num_millenials = millennials.count()\n",
    "print(\"Número de Millennials: \", num_millenials)"
   ],
   "id": "4e4438e65da4ca56",
   "outputs": [
    {
     "name": "stdout",
     "output_type": "stream",
     "text": [
      "Número de Millennials:  2305978\n"
     ]
    }
   ],
   "execution_count": 10
  },
  {
   "metadata": {},
   "cell_type": "markdown",
   "source": "## **Etapa 09**",
   "id": "8dd503640dfcb9bb"
  },
  {
   "metadata": {
    "ExecuteTime": {
     "end_time": "2024-11-25T18:51:57.245657Z",
     "start_time": "2024-11-25T18:51:55.602771Z"
    }
   },
   "cell_type": "code",
   "source": [
    "resultado = spark.sql(\"\"\"\n",
    "    select count(*) as num_millenials\n",
    "    from pessoas\n",
    "    where AnoNascimento BETWEEN 1980 and 1994\n",
    "\"\"\")\n",
    "resultado.show()"
   ],
   "id": "c0b20a25ce68c05f",
   "outputs": [
    {
     "name": "stdout",
     "output_type": "stream",
     "text": [
      "+--------------+\n",
      "|num_millenials|\n",
      "+--------------+\n",
      "|       2305978|\n",
      "+--------------+\n",
      "\n"
     ]
    }
   ],
   "execution_count": 11
  },
  {
   "metadata": {},
   "cell_type": "markdown",
   "source": "## **Etapa 10**",
   "id": "20f4b14387f95860"
  },
  {
   "metadata": {
    "ExecuteTime": {
     "end_time": "2024-11-25T18:52:01.434299Z",
     "start_time": "2024-11-25T18:51:57.292627Z"
    }
   },
   "cell_type": "code",
   "source": [
    "resposta = spark.sql(\"\"\"\n",
    "    select\n",
    "        Pais,\n",
    "        case\n",
    "            when AnoNaScimento BETWEEN 1944 AND 1964 THEN \"Baby Boomers\"\n",
    "            when AnoNascimento BETWEEN 1965 AND 1979 THEN \"Geração X\"\n",
    "            when AnoNascimento BETWEEN 1980 AND 1994 THEN \"Millenials\"\n",
    "            when AnoNascimento BETWEEN 1995 AND 2015 THEN \"Geração Z\"\n",
    "            else \"Outras Gerações\"\n",
    "        end as geracao,\n",
    "        count(*) as quantidade\n",
    "    from pessoas\n",
    "    group by Pais, geracao\n",
    "    order by Pais, geracao , quantidade\n",
    "\"\"\")\n",
    "resposta.show()"
   ],
   "id": "5d1c5f5455d7a40c",
   "outputs": [
    {
     "name": "stdout",
     "output_type": "stream",
     "text": [
      "+---------+------------+----------+\n",
      "|     Pais|     geracao|quantidade|\n",
      "+---------+------------+----------+\n",
      "|Argentina|Baby Boomers|    218096|\n",
      "|Argentina|   Geração X|    163602|\n",
      "|Argentina|   Geração Z|    164006|\n",
      "|Argentina|  Millenials|    163380|\n",
      "|  Bolivia|Baby Boomers|    201868|\n",
      "|  Bolivia|   Geração X|    151248|\n",
      "|  Bolivia|   Geração Z|    151932|\n",
      "|  Bolivia|  Millenials|    150741|\n",
      "|   Brasil|Baby Boomers|    237133|\n",
      "|   Brasil|   Geração X|    177511|\n",
      "|   Brasil|   Geração Z|    177893|\n",
      "|   Brasil|  Millenials|    177655|\n",
      "|    Chile|Baby Boomers|    186357|\n",
      "|    Chile|   Geração X|    139676|\n",
      "|    Chile|   Geração Z|    140114|\n",
      "|    Chile|  Millenials|    139838|\n",
      "| Colombia|Baby Boomers|    171443|\n",
      "| Colombia|   Geração X|    128308|\n",
      "| Colombia|   Geração Z|    128975|\n",
      "| Colombia|  Millenials|    128620|\n",
      "+---------+------------+----------+\n",
      "only showing top 20 rows\n",
      "\n"
     ]
    }
   ],
   "execution_count": 12
  }
 ],
 "metadata": {
  "kernelspec": {
   "display_name": "Python 3",
   "language": "python",
   "name": "python3"
  },
  "language_info": {
   "codemirror_mode": {
    "name": "ipython",
    "version": 2
   },
   "file_extension": ".py",
   "mimetype": "text/x-python",
   "name": "python",
   "nbconvert_exporter": "python",
   "pygments_lexer": "ipython2",
   "version": "2.7.6"
  }
 },
 "nbformat": 4,
 "nbformat_minor": 5
}
