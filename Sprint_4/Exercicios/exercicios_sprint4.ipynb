{
 "cells": [
  {
   "cell_type": "code",
   "execution_count": null,
   "id": "initial_id",
   "metadata": {
    "collapsed": true
   },
   "outputs": [],
   "source": [
    "with open ('number.txt','r') as f :\n",
    "    numeros = [int(num) for num in f.read().split()]\n",
    "    \n",
    "numeros = list(map(int,numeros))\n",
    "\n",
    "pares = list(filter(lambda x: x % 2 == 0, numeros))\n",
    "\n",
    "ordenados = sorted(pares, reverse=True)\n",
    "\n",
    "cinco_maiores = ordenados[:5]\n",
    "\n",
    "soma_pares = sum(cinco_maiores)\n",
    "    \n",
    "print(cinco_maiores)\n",
    "print(soma_pares)"
   ]
  },
  {
   "metadata": {},
   "cell_type": "code",
   "outputs": [],
   "execution_count": null,
   "source": [
    "def conta_vogais(texto:str)-> int:\n",
    "    vogais = 'aeiou'\n",
    "    vogais_string = filter(lambda letra: letra.lower() in vogais, texto)\n",
    "    return len(list(vogais_string))"
   ],
   "id": "89d0e21565ed93bc"
  },
  {
   "metadata": {},
   "cell_type": "code",
   "outputs": [],
   "execution_count": null,
   "source": [
    "from functools import reduce\n",
    "def calcula_saldo(lancamentos) -> float:\n",
    "    #continue este código\n",
    "    def valor_lancamento(lancamentos):\n",
    "        valor, tipo = lancamentos\n",
    "        return valor if tipo == 'C' else -valor\n",
    "\n",
    "    saldo_final = reduce(lambda x,y: x+y, map(valor_lancamento, lancamentos))\n",
    "    return saldo_final"
   ],
   "id": "660d127ac0060dd2"
  },
  {
   "metadata": {},
   "cell_type": "code",
   "outputs": [],
   "execution_count": null,
   "source": [
    "def calcular_valor_maximo(operadores,operandos) -> float:\n",
    "    operacao = lambda op, a, b: a + b if op== '+' else a - b if op == '-' else a * b if op == '*' else a / b if op == '/' else a % b\n",
    "        \n",
    "\n",
    "    resultados = list(map(lambda x: operacao(x[0], x[1][0], x[1][1]), zip(operadores,operandos)))\n",
    "    return max(resultados)\n",
    "\n",
    "\n",
    "operadores = ['+','-','*','/','+']\n",
    "operandos  = [(3,6), (-7,4.9), (8,-8), (10,2), (8,4)]\n",
    "\n",
    "print(calcular_valor_maximo(operadores, operandos))"
   ],
   "id": "dd48b15327b9383"
  },
  {
   "metadata": {},
   "cell_type": "code",
   "outputs": [],
   "execution_count": null,
   "source": [
    "import csv\n",
    "\n",
    "def boletim(arquivo_csv):\n",
    "    with open(arquivo_csv, 'r') as file:\n",
    "        estudante = csv.reader(file)\n",
    "        \n",
    "        \n",
    "        dados = []\n",
    "        for linhas in estudante:\n",
    "            nome = linhas[0]\n",
    "            notas = list(map(int, linhas[1:]))\n",
    "            ordenadas = sorted(notas, reverse=True)[:3]\n",
    "            media = round(sum(ordenadas) / 3, 2)\n",
    "            dados.append((nome,ordenadas,media))\n",
    "    \n",
    "        estudante_ordenado = sorted(dados, key=lambda x: x[0])\n",
    "        for nome, notas, media in estudante_ordenado:\n",
    "            print(f'Nome: {nome} Notas: {notas} Média: {media}')\n",
    "            \n",
    "            \n",
    "boletim('estudantes.csv')\n",
    "        "
   ],
   "id": "6af85596a1bb9324"
  },
  {
   "metadata": {},
   "cell_type": "code",
   "outputs": [],
   "execution_count": null,
   "source": [
    "def maiores_que_media(conteudo:dict)->list:\n",
    "    precos = list(conteudo.values())\n",
    "    media = sum(precos) / len(precos)\n",
    "    \n",
    "    acima_media = [(produto,preço) for produto, preço in conteudo.items() if preço > media]\n",
    "    ordenados = sorted(acima_media, key=lambda x: x[1])\n",
    "    \n",
    "    return ordenados\n",
    "    \n",
    "conteudo = {\n",
    "    \"arroz\": 4.99,\n",
    "    \"feijão\": 3.49,\n",
    "    \"macarrão\": 2.99,\n",
    "    \"leite\": 3.29,\n",
    "    \"pão\": 1.99\n",
    "}\n",
    "\n",
    "resultado = maiores_que_media(conteudo)"
   ],
   "id": "9841cef58fd1b811"
  },
  {
   "metadata": {},
   "cell_type": "code",
   "outputs": [],
   "execution_count": null,
   "source": [
    "def pares_ate(n:int):\n",
    "    if n < 2:\n",
    "        return ('Não há numeros pares no intervalo')\n",
    "    for numero in range(2, n+1 ,2):\n",
    "        yield numero\n",
    "        \n",
    "            "
   ],
   "id": "f8893f6349aad284"
  },
  {
   "metadata": {},
   "cell_type": "code",
   "outputs": [],
   "execution_count": null,
   "source": "",
   "id": "a3bab7d744a24e61"
  }
 ],
 "metadata": {
  "kernelspec": {
   "display_name": "Python 3",
   "language": "python",
   "name": "python3"
  },
  "language_info": {
   "codemirror_mode": {
    "name": "ipython",
    "version": 2
   },
   "file_extension": ".py",
   "mimetype": "text/x-python",
   "name": "python",
   "nbconvert_exporter": "python",
   "pygments_lexer": "ipython2",
   "version": "2.7.6"
  }
 },
 "nbformat": 4,
 "nbformat_minor": 5
}
